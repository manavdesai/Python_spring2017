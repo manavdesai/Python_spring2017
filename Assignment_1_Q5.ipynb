{
 "cells": [
  {
   "cell_type": "markdown",
   "metadata": {},
   "source": [
    "Question 5\n",
    "-Use Gutenberg and Web_text data. Find out what are the top 5 words that Shakespeare used but we do not use in currently.\n",
    "-Take top 50 words from Shakespeare (all 3 books) and top 50 from Web_text (all the records).\n",
    "-Remove punctuation and stop words.\n",
    "-Remove the words we still use today, and get the unused list. Show the top 5 elements."
   ]
  },
  {
   "cell_type": "code",
   "execution_count": 5,
   "metadata": {
    "collapsed": false
   },
   "outputs": [
    {
     "name": "stdout",
     "output_type": "stream",
     "text": [
      "['austen-emma.txt', 'austen-persuasion.txt', 'austen-sense.txt', 'bible-kjv.txt', 'blake-poems.txt', 'bryant-stories.txt', 'burgess-busterbrown.txt', 'carroll-alice.txt', 'chesterton-ball.txt', 'chesterton-brown.txt', 'chesterton-thursday.txt', 'edgeworth-parents.txt', 'melville-moby_dick.txt', 'milton-paradise.txt', 'shakespeare-caesar.txt', 'shakespeare-hamlet.txt', 'shakespeare-macbeth.txt', 'whitman-leaves.txt']\n"
     ]
    }
   ],
   "source": [
    "import nltk\n",
    "import string\n",
    "from nltk.corpus import gutenberg\n",
    "from nltk.corpus import webtext\n",
    "from nltk.corpus import stopwords\n",
    "files=gutenberg.fileids()\n",
    "print(files)"
   ]
  },
  {
   "cell_type": "code",
   "execution_count": 12,
   "metadata": {
    "collapsed": false
   },
   "outputs": [],
   "source": [
    "words_m = []\n",
    "words_m.extend(nltk.corpus.gutenberg.words('shakespeare-caesar.txt'))\n",
    "words_m.extend(nltk.corpus.gutenberg.words('shakespeare-hamlet.txt'))\n",
    "words_m.extend(nltk.corpus.gutenberg.words('shakespeare-macbeth.txt'))\n"
   ]
  },
  {
   "cell_type": "code",
   "execution_count": 22,
   "metadata": {
    "collapsed": false
   },
   "outputs": [],
   "source": [
    "words_m = [''.join(c for c in s if c not in set(string.punctuation)) for s in words_m]   #remove all punctuation words\n",
    "words_m = [x for x in words_m if x]                                                      #remove epmty string from list of words\n",
    "\n",
    "lower_words = []\n",
    "for word in words_m:\n",
    "    lower_words.append(word.lower())  #convert all the words in lower case\n",
    "\n",
    "lower_words = [word for word in lower_words if word not in stopwords.words('english')] #remove all stop words\n",
    "\n",
    "frequent_words = {}\n",
    "for word in lower_words:              #loop through each word \n",
    "    if word in frequent_words:\n",
    "        frequent_words[word] += 1\n",
    "    else:\n",
    "        frequent_words[word] = 1\n",
    "\n",
    "listOfSortedWords = []                                                           \n",
    "listOfSortedWords = sorted(frequent_words, key=frequent_words.__getitem__ , reverse= True) #sorting words in descending order based on frequency"
   ]
  },
  {
   "cell_type": "code",
   "execution_count": 23,
   "metadata": {
    "collapsed": false
   },
   "outputs": [
    {
     "name": "stdout",
     "output_type": "stream",
     "text": [
      "Top 50 words in Shakespeare: \n",
      "['haue', 'ham', 'thou', 'shall', 'lord', 'come', 'king', 'enter', 'good', 'let', 'thy', 'caesar', 'vs', 'know', 'thee', 'would', 'vpon', 'brutus', 'like', 'bru', 'well', 'hath', 'selfe', 'man', 'may', 'macb', 'yet', 'heere', 'say', 'must', 'tis', 'th', 'speake', 'make', 'loue', 'giue', 'see', 'time', 'sir', 'night', 'one', 'st', 'cassi', 'ile', 'doe', 'go', 'hamlet', 'men', 'hor', 'vp']\n"
     ]
    }
   ],
   "source": [
    "top_50_Words = listOfSortedWords[0:50]             #top 50 words from the shakespeare list\n",
    "print('Top 50 words in Shakespeare: ')\n",
    "print(top_50_Words)"
   ]
  },
  {
   "cell_type": "code",
   "execution_count": 24,
   "metadata": {
    "collapsed": false
   },
   "outputs": [
    {
     "name": "stdout",
     "output_type": "stream",
     "text": [
      "['firefox.txt', 'grail.txt', 'overheard.txt', 'pirates.txt', 'singles.txt', 'wine.txt']\n"
     ]
    }
   ],
   "source": [
    "web=webtext.fileids()\n",
    "print(web)"
   ]
  },
  {
   "cell_type": "code",
   "execution_count": null,
   "metadata": {
    "collapsed": true
   },
   "outputs": [],
   "source": []
  }
 ],
 "metadata": {
  "kernelspec": {
   "display_name": "Python 3",
   "language": "python",
   "name": "python3"
  },
  "language_info": {
   "codemirror_mode": {
    "name": "ipython",
    "version": 3
   },
   "file_extension": ".py",
   "mimetype": "text/x-python",
   "name": "python",
   "nbconvert_exporter": "python",
   "pygments_lexer": "ipython3",
   "version": "3.6.0"
  }
 },
 "nbformat": 4,
 "nbformat_minor": 2
}
