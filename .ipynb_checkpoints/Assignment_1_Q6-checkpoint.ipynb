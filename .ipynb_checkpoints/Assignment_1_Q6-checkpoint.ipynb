{
 "cells": [
  {
   "cell_type": "markdown",
   "metadata": {},
   "source": [
    "Question 6\n",
    "-Under Inaugural Address package\n",
    "-For every president, find out how many unique words they used in speech.\n",
    "-We will just assume that President Bush means one person (technically it is incorrect but we will ignore it)"
   ]
  },
  {
   "cell_type": "code",
   "execution_count": 5,
   "metadata": {
    "collapsed": false
   },
   "outputs": [
    {
     "name": "stdout",
     "output_type": "stream",
     "text": [
      "['1789-Washington.txt', '1793-Washington.txt', '1797-Adams.txt', '1801-Jefferson.txt', '1805-Jefferson.txt', '1809-Madison.txt', '1813-Madison.txt', '1817-Monroe.txt', '1821-Monroe.txt', '1825-Adams.txt', '1829-Jackson.txt', '1833-Jackson.txt', '1837-VanBuren.txt', '1841-Harrison.txt', '1845-Polk.txt', '1849-Taylor.txt', '1853-Pierce.txt', '1857-Buchanan.txt', '1861-Lincoln.txt', '1865-Lincoln.txt', '1869-Grant.txt', '1873-Grant.txt', '1877-Hayes.txt', '1881-Garfield.txt', '1885-Cleveland.txt', '1889-Harrison.txt', '1893-Cleveland.txt', '1897-McKinley.txt', '1901-McKinley.txt', '1905-Roosevelt.txt', '1909-Taft.txt', '1913-Wilson.txt', '1917-Wilson.txt', '1921-Harding.txt', '1925-Coolidge.txt', '1929-Hoover.txt', '1933-Roosevelt.txt', '1937-Roosevelt.txt', '1941-Roosevelt.txt', '1945-Roosevelt.txt', '1949-Truman.txt', '1953-Eisenhower.txt', '1957-Eisenhower.txt', '1961-Kennedy.txt', '1965-Johnson.txt', '1969-Nixon.txt', '1973-Nixon.txt', '1977-Carter.txt', '1981-Reagan.txt', '1985-Reagan.txt', '1989-Bush.txt', '1993-Clinton.txt', '1997-Clinton.txt', '2001-Bush.txt', '2005-Bush.txt', '2009-Obama.txt']\n"
     ]
    }
   ],
   "source": [
    "import nltk\n",
    "from nltk.corpus import inaugural\n",
    "files =[]\n",
    "files = inaugural.fileids() \n",
    "print(files)"
   ]
  },
  {
   "cell_type": "code",
   "execution_count": 9,
   "metadata": {
    "collapsed": false,
    "scrolled": true
   },
   "outputs": [
    {
     "name": "stdout",
     "output_type": "stream",
     "text": [
      "The number of unique words in Washington speech is 96\n",
      "The number of unique words in Adams speech is 1007\n",
      "The number of unique words in Jefferson speech is 806\n",
      "The number of unique words in Madison speech is 542\n",
      "The number of unique words in Monroe speech is 1265\n",
      "The number of unique words in Jackson speech is 502\n",
      "The number of unique words in VanBuren speech is 1318\n",
      "The number of unique words in Harrison speech is 1358\n",
      "The number of unique words in Polk speech is 1333\n",
      "The number of unique words in Taylor speech is 499\n",
      "The number of unique words in Pierce speech is 1168\n",
      "The number of unique words in Buchanan speech is 948\n",
      "The number of unique words in Lincoln speech is 363\n",
      "The number of unique words in Grant speech is 553\n",
      "The number of unique words in Hayes speech is 832\n",
      "The number of unique words in Garfield speech is 1022\n",
      "The number of unique words in Cleveland speech is 820\n",
      "The number of unique words in McKinley speech is 860\n",
      "The number of unique words in Roosevelt speech is 280\n",
      "The number of unique words in Taft speech is 1439\n",
      "The number of unique words in Wilson speech is 549\n",
      "The number of unique words in Harding speech is 1170\n",
      "The number of unique words in Coolidge speech is 1221\n",
      "The number of unique words in Hoover speech is 1087\n",
      "The number of unique words in Truman speech is 781\n",
      "The number of unique words in Eisenhower speech is 622\n",
      "The number of unique words in Kennedy speech is 570\n",
      "The number of unique words in Johnson speech is 571\n",
      "The number of unique words in Nixon speech is 545\n",
      "The number of unique words in Carter speech is 529\n",
      "The number of unique words in Reagan speech is 924\n",
      "The number of unique words in Bush speech is 783\n",
      "The number of unique words in Clinton speech is 774\n",
      "The number of unique words in Obama speech is 938\n"
     ]
    }
   ],
   "source": [
    "presidentSpeech = {}                    #dictionary\n",
    "type(presidentSpeech)\n",
    "for name in files:\n",
    "        new_name = name[5:-4]\n",
    "        words = list(inaugural.words(name))\n",
    "        if (clean_name not in presidentSpeech):\n",
    "            presidentSpeech[new_name] = words\n",
    "        else:\n",
    "            presidentSpeech[new_name].extend(words)\n",
    "            \n",
    "for k in presidentSpeech:\n",
    "   words = set(presidentSpeech[k]).__len__()\n",
    "   print ('The number of unique words in', k, 'speech is', words)\n",
    "    \n"
   ]
  },
  {
   "cell_type": "code",
   "execution_count": null,
   "metadata": {
    "collapsed": true
   },
   "outputs": [],
   "source": []
  }
 ],
 "metadata": {
  "kernelspec": {
   "display_name": "Python 3",
   "language": "python",
   "name": "python3"
  },
  "language_info": {
   "codemirror_mode": {
    "name": "ipython",
    "version": 3
   },
   "file_extension": ".py",
   "mimetype": "text/x-python",
   "name": "python",
   "nbconvert_exporter": "python",
   "pygments_lexer": "ipython3",
   "version": "3.6.0"
  }
 },
 "nbformat": 4,
 "nbformat_minor": 2
}
