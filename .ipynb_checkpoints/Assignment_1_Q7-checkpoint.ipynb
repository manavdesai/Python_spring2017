{
 "cells": [
  {
   "cell_type": "markdown",
   "metadata": {},
   "source": [
    "\n",
    "Question 7\n",
    "-Use Name corpus, calculate the probability of a name being of a male or female base on the last character(s) of name.\n",
    "Sample steps:\n",
    "-For char ‘a’: total_names = sum(names ending with ‘a’) male_names = sum(male names ending with ‘a’) female_names = sum(female names ending with ‘a’) Probability of name being male = 100 * male_names / total_names\n",
    "Do this for all characters.\n",
    "Output must come with proper title (e.g. [a] male: 25%, female: 60%)"
   ]
  },
  {
   "cell_type": "code",
   "execution_count": 1,
   "metadata": {
    "collapsed": false
   },
   "outputs": [
    {
     "data": {
      "text/plain": [
       "['female.txt', 'male.txt']"
      ]
     },
     "execution_count": 1,
     "metadata": {},
     "output_type": "execute_result"
    }
   ],
   "source": [
    "import nltk\n",
    "from nltk.corpus import names\n",
    "names.fileids()\n"
   ]
  },
  {
   "cell_type": "code",
   "execution_count": 5,
   "metadata": {
    "collapsed": true
   },
   "outputs": [],
   "source": [
    "names_female = nltk.corpus.names.words('female.txt')\n",
    "names_male = nltk.corpus.names.words('male.txt')    \n",
    "type(names_female)\n",
    "some_names = []                                      \n",
    "all_names.extend(names_female)       \n",
    "all_names.extend(names_male)\n",
    "\n",
    "char = ['a', 'b','c','d','e','f','g','h','i','j','k','l','m','n','o','p','q','r','s','t','u','v','w','x','y','z']"
   ]
  },
  {
   "cell_type": "code",
   "execution_count": 11,
   "metadata": {
    "collapsed": false
   },
   "outputs": [
    {
     "name": "stdout",
     "output_type": "stream",
     "text": [
      "Considering : a\n",
      "Probability of male name in percentage: 1.609322974472808\n",
      "Probability of female name in percentage: 98.3906770255272\n",
      "______________________________________________________________________\n",
      "Considering : b\n",
      "Probability of male name in percentage: 70.0\n",
      "Probability of female name in percentage: 30.0\n",
      "______________________________________________________________________\n",
      "Considering : c\n",
      "Probability of male name in percentage: 100.0\n",
      "Probability of female name in percentage: 0.0\n",
      "______________________________________________________________________\n",
      "Considering : d\n",
      "Probability of male name in percentage: 85.39325842696628\n",
      "Probability of female name in percentage: 14.606741573033707\n",
      "______________________________________________________________________\n",
      "Considering : e\n",
      "Probability of male name in percentage: 24.63157894736842\n",
      "Probability of female name in percentage: 75.36842105263158\n",
      "______________________________________________________________________\n",
      "Considering : f\n",
      "Probability of male name in percentage: 92.5925925925926\n",
      "Probability of female name in percentage: 7.4074074074074066\n",
      "______________________________________________________________________\n",
      "Considering : g\n",
      "Probability of male name in percentage: 76.19047619047619\n",
      "Probability of female name in percentage: 23.809523809523807\n",
      "______________________________________________________________________\n",
      "Considering : h\n",
      "Probability of male name in percentage: 46.96969696969697\n",
      "Probability of female name in percentage: 53.03030303030303\n",
      "______________________________________________________________________\n",
      "Considering : i\n",
      "Probability of male name in percentage: 13.623978201634879\n",
      "Probability of female name in percentage: 86.37602179836512\n",
      "______________________________________________________________________\n",
      "Considering : j\n",
      "Probability of male name in percentage: 75.0\n",
      "Probability of female name in percentage: 25.0\n",
      "______________________________________________________________________\n",
      "Considering : k\n",
      "Probability of male name in percentage: 95.83333333333334\n",
      "Probability of female name in percentage: 4.166666666666666\n",
      "______________________________________________________________________\n",
      "Considering : l\n",
      "Probability of male name in percentage: 51.09289617486339\n",
      "Probability of female name in percentage: 48.90710382513661\n",
      "______________________________________________________________________\n",
      "Considering : m\n",
      "Probability of male name in percentage: 84.33734939759037\n",
      "Probability of female name in percentage: 15.66265060240964\n",
      "______________________________________________________________________\n",
      "Considering : n\n",
      "Probability of male name in percentage: 55.32407407407407\n",
      "Probability of female name in percentage: 44.675925925925924\n",
      "______________________________________________________________________\n",
      "Considering : o\n",
      "Probability of male name in percentage: 83.33333333333334\n",
      "Probability of female name in percentage: 16.666666666666664\n",
      "______________________________________________________________________\n",
      "Considering : p\n",
      "Probability of male name in percentage: 90.0\n",
      "Probability of female name in percentage: 10.0\n",
      "______________________________________________________________________\n",
      "Considering : q\n",
      "Probability of male name in percentage: 0\n",
      "Probability of female name in percentage: 0\n",
      "______________________________________________________________________\n",
      "Considering : r\n",
      "Probability of male name in percentage: 80.16877637130801\n",
      "Probability of female name in percentage: 19.831223628691983\n",
      "______________________________________________________________________\n",
      "Considering : s\n",
      "Probability of male name in percentage: 71.20743034055728\n",
      "Probability of female name in percentage: 28.792569659442723\n",
      "______________________________________________________________________\n",
      "Considering : t\n",
      "Probability of male name in percentage: 70.6896551724138\n",
      "Probability of female name in percentage: 29.310344827586203\n",
      "______________________________________________________________________\n",
      "Considering : u\n",
      "Probability of male name in percentage: 66.66666666666666\n",
      "Probability of female name in percentage: 33.33333333333333\n",
      "______________________________________________________________________\n",
      "Considering : v\n",
      "Probability of male name in percentage: 88.88888888888889\n",
      "Probability of female name in percentage: 11.11111111111111\n",
      "______________________________________________________________________\n",
      "Considering : w\n",
      "Probability of male name in percentage: 77.27272727272727\n",
      "Probability of female name in percentage: 22.727272727272727\n",
      "______________________________________________________________________\n",
      "Considering : x\n",
      "Probability of male name in percentage: 50.0\n",
      "Probability of female name in percentage: 50.0\n",
      "______________________________________________________________________\n",
      "Considering : y\n",
      "Probability of male name in percentage: 41.86633039092055\n",
      "Probability of female name in percentage: 58.13366960907944\n",
      "______________________________________________________________________\n",
      "Considering : z\n",
      "Probability of male name in percentage: 73.33333333333333\n",
      "Probability of female name in percentage: 26.666666666666668\n",
      "______________________________________________________________________\n"
     ]
    }
   ],
   "source": [
    "for A in char:\n",
    "    total_names  = 0\n",
    "    males = 0\n",
    "    females = 0\n",
    "    prob_male_names = 0\n",
    "    prob_female_names = 0\n",
    "    for name in all_names:\n",
    "        if name.endswith(A):\n",
    "            total_names += 1\n",
    "    for name in names_male:\n",
    "        if name.endswith(A):\n",
    "            males += 1\n",
    "    for name in names_female:\n",
    "        if name.endswith(A):\n",
    "            females += 1\n",
    "    if total_names > 0:\n",
    "        prob_male_names = 100 * (males/total_names)\n",
    "        prob_female_names = 100 * (females/total_names)\n",
    "    print ('Considering :',A)\n",
    "    print('Probability of male name in percentage:', prob_male_names)\n",
    "    print('Probability of female name in percentage:', prob_female_names)   \n",
    "    print('______________________________________________________________________')"
   ]
  },
  {
   "cell_type": "code",
   "execution_count": null,
   "metadata": {
    "collapsed": true
   },
   "outputs": [],
   "source": []
  }
 ],
 "metadata": {
  "kernelspec": {
   "display_name": "Python 3",
   "language": "python",
   "name": "python3"
  },
  "language_info": {
   "codemirror_mode": {
    "name": "ipython",
    "version": 3
   },
   "file_extension": ".py",
   "mimetype": "text/x-python",
   "name": "python",
   "nbconvert_exporter": "python",
   "pygments_lexer": "ipython3",
   "version": "3.6.0"
  }
 },
 "nbformat": 4,
 "nbformat_minor": 2
}
