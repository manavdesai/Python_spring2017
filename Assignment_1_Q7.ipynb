{
 "cells": [
  {
   "cell_type": "markdown",
   "metadata": {},
   "source": [
    "\n",
    "Question 7\n",
    "-Use Name corpus, calculate the probability of a name being of a male or female base on the last character(s) of name.\n",
    "Sample steps:\n",
    "-For char ‘a’: total_names = sum(names ending with ‘a’) male_names = sum(male names ending with ‘a’) female_names = sum(female names ending with ‘a’) Probability of name being male = 100 * male_names / total_names\n",
    "Do this for all characters.\n",
    "Output must come with proper title (e.g. [a] male: 25%, female: 60%)"
   ]
  },
  {
   "cell_type": "code",
   "execution_count": 1,
   "metadata": {
    "collapsed": false
   },
   "outputs": [
    {
     "data": {
      "text/plain": [
       "['female.txt', 'male.txt']"
      ]
     },
     "execution_count": 1,
     "metadata": {},
     "output_type": "execute_result"
    }
   ],
   "source": [
    "import nltk\n",
    "from nltk.corpus import names\n",
    "names.fileids()\n"
   ]
  },
  {
   "cell_type": "code",
   "execution_count": 5,
   "metadata": {
    "collapsed": true
   },
   "outputs": [],
   "source": [
    "names_female = nltk.corpus.names.words('female.txt')# get all the names in female.txt file\n",
    "names_male = nltk.corpus.names.words('male.txt')    # get all the words in male.txt file\n",
    "type(names_female)\n",
    "all_names = []                                      # create a list to add all names in one list\n",
    "all_names.extend(names_female)       \n",
    "all_names.extend(names_male)\n",
    "\n",
    "char = ['a', 'b','c','d','e','f','g','h','i','j','k','l','m','n','o','p','q','r','s','t','u','v','w','x','y','z']"
   ]
  },
  {
   "cell_type": "code",
   "execution_count": 8,
   "metadata": {
    "collapsed": false
   },
   "outputs": [
    {
     "name": "stdout",
     "output_type": "stream",
     "text": [
      "Based on [ a ]\n",
      "Probaility of male name: 1.609322974472808 %\n",
      "Probability of female name: 98.3906770255272 %\n",
      "\n",
      "Based on [ b ]\n",
      "Probaility of male name: 70.0 %\n",
      "Probability of female name: 30.0 %\n",
      "\n",
      "Based on [ c ]\n",
      "Probaility of male name: 100.0 %\n",
      "Probability of female name: 0.0 %\n",
      "\n",
      "Based on [ d ]\n",
      "Probaility of male name: 85.39325842696628 %\n",
      "Probability of female name: 14.606741573033707 %\n",
      "\n",
      "Based on [ e ]\n",
      "Probaility of male name: 24.63157894736842 %\n",
      "Probability of female name: 75.36842105263158 %\n",
      "\n",
      "Based on [ f ]\n",
      "Probaility of male name: 92.5925925925926 %\n",
      "Probability of female name: 7.4074074074074066 %\n",
      "\n",
      "Based on [ g ]\n",
      "Probaility of male name: 76.19047619047619 %\n",
      "Probability of female name: 23.809523809523807 %\n",
      "\n",
      "Based on [ h ]\n",
      "Probaility of male name: 46.96969696969697 %\n",
      "Probability of female name: 53.03030303030303 %\n",
      "\n",
      "Based on [ i ]\n",
      "Probaility of male name: 13.623978201634879 %\n",
      "Probability of female name: 86.37602179836512 %\n",
      "\n",
      "Based on [ j ]\n",
      "Probaility of male name: 75.0 %\n",
      "Probability of female name: 25.0 %\n",
      "\n",
      "Based on [ k ]\n",
      "Probaility of male name: 95.83333333333334 %\n",
      "Probability of female name: 4.166666666666666 %\n",
      "\n",
      "Based on [ l ]\n",
      "Probaility of male name: 51.09289617486339 %\n",
      "Probability of female name: 48.90710382513661 %\n",
      "\n",
      "Based on [ m ]\n",
      "Probaility of male name: 84.33734939759037 %\n",
      "Probability of female name: 15.66265060240964 %\n",
      "\n",
      "Based on [ n ]\n",
      "Probaility of male name: 55.32407407407407 %\n",
      "Probability of female name: 44.675925925925924 %\n",
      "\n",
      "Based on [ o ]\n",
      "Probaility of male name: 83.33333333333334 %\n",
      "Probability of female name: 16.666666666666664 %\n",
      "\n",
      "Based on [ p ]\n",
      "Probaility of male name: 90.0 %\n",
      "Probability of female name: 10.0 %\n",
      "\n",
      "Based on [ q ]\n",
      "Probaility of male name: 0 %\n",
      "Probability of female name: 0 %\n",
      "\n",
      "Based on [ r ]\n",
      "Probaility of male name: 80.16877637130801 %\n",
      "Probability of female name: 19.831223628691983 %\n",
      "\n",
      "Based on [ s ]\n",
      "Probaility of male name: 71.20743034055728 %\n",
      "Probability of female name: 28.792569659442723 %\n",
      "\n",
      "Based on [ t ]\n",
      "Probaility of male name: 70.6896551724138 %\n",
      "Probability of female name: 29.310344827586203 %\n",
      "\n",
      "Based on [ u ]\n",
      "Probaility of male name: 66.66666666666666 %\n",
      "Probability of female name: 33.33333333333333 %\n",
      "\n",
      "Based on [ v ]\n",
      "Probaility of male name: 88.88888888888889 %\n",
      "Probability of female name: 11.11111111111111 %\n",
      "\n",
      "Based on [ w ]\n",
      "Probaility of male name: 77.27272727272727 %\n",
      "Probability of female name: 22.727272727272727 %\n",
      "\n",
      "Based on [ x ]\n",
      "Probaility of male name: 50.0 %\n",
      "Probability of female name: 50.0 %\n",
      "\n",
      "Based on [ y ]\n",
      "Probaility of male name: 41.86633039092055 %\n",
      "Probability of female name: 58.13366960907944 %\n",
      "\n",
      "Based on [ z ]\n",
      "Probaility of male name: 73.33333333333333 %\n",
      "Probability of female name: 26.666666666666668 %\n",
      "\n"
     ]
    }
   ],
   "source": [
    "for each in char:\n",
    "    total_names  = 0\n",
    "    males = 0\n",
    "    females = 0\n",
    "    prob_male_names = 0\n",
    "    prob_female_names = 0\n",
    "    for name in all_names:\n",
    "        if name.endswith(each):\n",
    "            total_names += 1\n",
    "    for name in names_male:\n",
    "        if name.endswith(each):\n",
    "            males += 1\n",
    "    for name in names_female:\n",
    "        if name.endswith(each):\n",
    "            females += 1\n",
    "    if total_names > 0:\n",
    "        prob_male_names = 100 * (males/total_names)\n",
    "        prob_female_names = 100 * (females/total_names)\n",
    "    print ('Based on [',each,']')\n",
    "    print('Probaility of male name:', prob_male_names , '%')\n",
    "    print('Probability of female name:', prob_female_names , '%')   \n",
    "    print('')"
   ]
  },
  {
   "cell_type": "code",
   "execution_count": null,
   "metadata": {
    "collapsed": true
   },
   "outputs": [],
   "source": []
  }
 ],
 "metadata": {
  "kernelspec": {
   "display_name": "Python 3",
   "language": "python",
   "name": "python3"
  },
  "language_info": {
   "codemirror_mode": {
    "name": "ipython",
    "version": 3
   },
   "file_extension": ".py",
   "mimetype": "text/x-python",
   "name": "python",
   "nbconvert_exporter": "python",
   "pygments_lexer": "ipython3",
   "version": "3.6.0"
  }
 },
 "nbformat": 4,
 "nbformat_minor": 2
}
