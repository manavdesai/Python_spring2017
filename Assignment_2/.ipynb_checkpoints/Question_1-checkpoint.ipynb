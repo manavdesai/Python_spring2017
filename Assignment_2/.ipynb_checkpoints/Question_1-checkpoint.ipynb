{
 "cells": [
  {
   "cell_type": "markdown",
   "metadata": {},
   "source": [
    "# Question 1"
   ]
  },
  {
   "cell_type": "markdown",
   "metadata": {},
   "source": [
    "Learn & Understand Zip's Law.\n"
   ]
  },
  {
   "cell_type": "markdown",
   "metadata": {},
   "source": [
    "## Requirements\n",
    "\n",
    "-Use Glob to read file and loop.\n",
    "-Create one Lambda and one function.\n",
    "-Save Data in CSV file contains (Word, Frequency, Rank) sorted by Rank\n",
    "-Read CSV generated and create log-log figure.\n",
    "-Use matplotlib to generate figure.\n",
    "-Save figure in png file.\n",
    "-Write Conclusion at end."
   ]
  },
  {
   "cell_type": "code",
   "execution_count": 10,
   "metadata": {
    "collapsed": true
   },
   "outputs": [],
   "source": [
    "import nltk.corpus\n",
    "import glob\n",
    "import re\n",
    "import csv\n",
    "import os\n",
    "import matplotlib.pyplot as plt"
   ]
  },
  {
   "cell_type": "code",
   "execution_count": 13,
   "metadata": {
    "collapsed": false
   },
   "outputs": [
    {
     "name": "stdout",
     "output_type": "stream",
     "text": [
      "[('the', 125749), ('and', 78846), ('of', 70080), ('to', 46443), ('a', 32489), ('in', 31941), ('I', 29128), ('that', 27057), ('he', 21967), ('his', 20594)]\n"
     ]
    }
   ],
   "source": [
    "files = glob.glob(\"C://Users//Manav Desai//nltk_data/corpora/gutenberg/*.txt\")\n",
    "relativePath = os.getcwd() #getting the relative path\n",
    "\n",
    "\n",
    "with open( relativePath+\"/\"+'gutenberg.txt', 'w' ) as result:\n",
    "    for file in files:\n",
    "        for line in open( file, 'r' ):\n",
    "            result.write(line)\n",
    "            \n",
    "# using open function to open merge file name gutenberg.txt\n",
    "file = open(relativePath+\"/\"+'gutenberg.txt', 'r')\n",
    "l = []\n",
    "\n",
    "contents = file.readlines() #Reading line by line\n",
    "\n",
    "for line in range(len(contents)):\n",
    "    l.extend(re.findall(r\"[\\w']+\", contents[line]))\n",
    "        \n",
    "def clean(elem):\n",
    "    return  re.sub('[^a-zA-Z0-9 \\n\\.]', '', elem)\n",
    "\n",
    "\n",
    "# storing the cleaned words in new list name newList.\n",
    "newList = []\n",
    "for c in range(len(l)):\n",
    "    removed = clean(l[c])\n",
    "    newList.append(removed)\n",
    "    \n",
    "\n",
    "freq={} #empty dictionary\n",
    "\n",
    "for word in newList:\n",
    "    count = freq.get(word,0)\n",
    "    freq[word] = count + 1\n",
    "    \n",
    "#sorting in descending order using lambda function.\n",
    "sorted_Dictionary = sorted(freq.items(), key=lambda x: (-x[1], x[0])) # sorted is used to sort dictionary in descending order.\n",
    "print(sorted_Dictionary[:10])"
   ]
  },
  {
   "cell_type": "code",
   "execution_count": 15,
   "metadata": {
    "collapsed": false
   },
   "outputs": [
    {
     "name": "stdout",
     "output_type": "stream",
     "text": [
      "[('the', 125749, 1), ('and', 78846, 2), ('of', 70080, 3), ('to', 46443, 4), ('a', 32489, 5), ('in', 31941, 6), ('I', 29128, 7), ('that', 27057, 8), ('he', 21967, 9), ('his', 20594, 10)]\n"
     ]
    }
   ],
   "source": [
    "m = 1\n",
    "rankList = []\n",
    "\n",
    "# Looping in order to assign rank to each word.\n",
    "for rank in range(len(sortedDict)):\n",
    "    obj1 = sorted_Dictionary[rank]\n",
    "    obj1 = obj1 + (m,)\n",
    "    rankList.append(obj1)\n",
    "    m= m+1\n",
    "\n",
    "print(rankList[:10])"
   ]
  },
  {
   "cell_type": "code",
   "execution_count": 18,
   "metadata": {
    "collapsed": true
   },
   "outputs": [],
   "source": [
    "fileName = relativePath+\"/\"+'gutenbergCSV.csv' # creating CSV file\n",
    "\n",
    "with open(fileName, 'w', newline='') as fp:\n",
    "    a = csv.writer(fp, delimiter=',')\n",
    "    a.writerow([\"Word\", \"Frequency\", \"Rank\"])\n",
    "    a.writerows(rankList)"
   ]
  },
  {
   "cell_type": "code",
   "execution_count": 20,
   "metadata": {
    "collapsed": false
   },
   "outputs": [
    {
     "data": {
      "image/png": "[encoded data removed]",
      "text/plain": [
       "<matplotlib.figure.Figure at 0x171e7909f60>"
      ]
     },
     "metadata": {},
     "output_type": "display_data"
    }
   ],
   "source": [
    "# Now plotting loglog figure.\n",
    "exportFig = relativePath+\"/\"+'Zipf_Graph.png'\n",
    "x = []\n",
    "y = []\n",
    "\n",
    "\n",
    "# Reading CSV file in order to generate loglog figure.\n",
    "with open(fileName,'r') as csvfile:\n",
    "    next(csvfile)\n",
    "    plots = csv.reader(csvfile, delimiter=',')\n",
    "    for row in plots:\n",
    "        x.append(int(row[2]))\n",
    "        y.append(int(row[1]))\n",
    "\n",
    "plt.loglog(x,y, label='Freq vs Rank')\n",
    "plt.xlabel('log rank')\n",
    "plt.ylabel('log frequency')\n",
    "plt.title('Zipf curve for Gutenberg extracted from total words')\n",
    "plt.legend\n",
    "\n",
    "\n",
    "plt.savefig(exportFig, bbox_inches='tight')\n",
    "plt.show()"
   ]
  },
  {
   "cell_type": "code",
   "execution_count": null,
   "metadata": {
    "collapsed": true
   },
   "outputs": [],
   "source": []
  }
 ],
 "metadata": {
  "kernelspec": {
   "display_name": "Python 3",
   "language": "python",
   "name": "python3"
  },
  "language_info": {
   "codemirror_mode": {
    "name": "ipython",
    "version": 3
   },
   "file_extension": ".py",
   "mimetype": "text/x-python",
   "name": "python",
   "nbconvert_exporter": "python",
   "pygments_lexer": "ipython3",
   "version": "3.6.0"
  }
 },
 "nbformat": 4,
 "nbformat_minor": 2
}
