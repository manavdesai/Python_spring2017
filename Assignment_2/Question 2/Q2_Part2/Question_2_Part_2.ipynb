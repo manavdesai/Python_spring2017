{
 "cells": [
  {
   "cell_type": "markdown",
   "metadata": {
    "collapsed": true
   },
   "source": [
    "# Question 2_Part 2"
   ]
  },
  {
   "cell_type": "markdown",
   "metadata": {},
   "source": [
    "-Read all the JSON Files in the folder called Data.\n",
    "-Read only term name \"Restaurants\"\n",
    "-Each Json files contain key open.\n",
    "-Get all the details from open key and store in CSV.\n",
    "-Example - CSV file contain data in format [(filenName, city, country, day, startTime, endTime)]\n",
    "-Create only one CSV file and store all restaurants information w.r.t Country."
   ]
  },
  {
   "cell_type": "code",
   "execution_count": 6,
   "metadata": {
    "collapsed": true
   },
   "outputs": [],
   "source": [
    "import glob\n",
    "import json \n",
    "import os \n",
    "import shutil\n",
    "import re \n",
    "import csv "
   ]
  },
  {
   "cell_type": "code",
   "execution_count": 7,
   "metadata": {
    "collapsed": false
   },
   "outputs": [
    {
     "name": "stdout",
     "output_type": "stream",
     "text": [
      "{'NZ', 'GB', 'US', 'AU'}\n"
     ]
    }
   ],
   "source": [
    "relativePath = os.getcwd() #relative path\n",
    "fileList = glob.glob('E:/Python/Data/*json') #reading data using glob\n",
    "restFile = []\n",
    "countryList = []\n",
    "\n",
    "for file in range(len(fileList)):\n",
    "  \n",
    "    config = json.loads(open(fileList[file]).read())\n",
    "    \n",
    "    if config['term'] == 'restaurants'and 'hours' in config:\n",
    "        restFile.append(fileList[file])\n",
    "        countryList.append(config[\"location\"][\"country\"])\n",
    "    \n",
    "uniqueCountry = set(countryList)\n",
    "print(uniqueCountry)"
   ]
  },
  {
   "cell_type": "code",
   "execution_count": 8,
   "metadata": {
    "collapsed": false
   },
   "outputs": [],
   "source": [
    "folder = '/Data'\n",
    "\n",
    "if os.path.isdir(relativePath+folder) == 0: # checking if the folder exists or not and if not, make one\n",
    "     os.mkdir(relativePath+folder)\n",
    "        \n",
    "newFileName = relativePath+folder+\"/\"+'Restaurants.csv'  # Creating one Restaurants CSV file to store start and end time.\n",
    "countryList = []\n",
    "csvF = []\n",
    "\n",
    "for countryList in sorted(uniqueCountry):\n",
    "    for res in range(len(restFile)):\n",
    "        config = json.loads(open(restFile[res]).read())\n",
    "        \n",
    "\n",
    "        if config['location']['country'] == countryList:\n",
    "            state = config[\"location\"][\"state\"]\n",
    "            city =  config[\"location\"][\"city\"]\n",
    "            \n",
    "            # removing numeric and special characters.\n",
    "            Name_of_file = restFile[res][15:-5]\n",
    "            clean_file = re.sub('[^a-zA-Z \\n\\.]', ' ', Name_of_file)\n",
    "            openKey = config['hours'][0]['open']\n",
    "            \n",
    "          \n",
    "            for x in range(len(openKey)):\n",
    "                day = openKey[x]['day']\n",
    "                startTime = openKey[x]['start']\n",
    "                endTime = openKey[x]['end']\n",
    "                \n",
    "                \n",
    "                dataSet = (cleanFileName.strip(), city, countryList, day, startTime, endTime)\n",
    "                csvF.append(dataSet)\n",
    "                \n",
    "              \n",
    "with open(newFileName, 'w', newline='') as fp:\n",
    "    a = csv.writer(fp, delimiter=',')\n",
    "    a.writerow([\"Name\", \"City\", \"Country Code\", \"Days\", \"Start\", \"End\"])\n",
    "    a.writerows(csvF)\n",
    "    fp.close()"
   ]
  },
  {
   "cell_type": "markdown",
   "metadata": {},
   "source": [
    "# Splitting time to hour and min"
   ]
  },
  {
   "cell_type": "code",
   "execution_count": 11,
   "metadata": {
    "collapsed": false
   },
   "outputs": [],
   "source": [
    "countryList = []\n",
    "bonusFile = relativePath+folder+\"/\"+'Bonus.csv' \n",
    "csvF = []\n",
    "for countryList in sorted(uniqueCountry):\n",
    "    for res in range(len(restFile)):\n",
    "        config = json.loads(open(restFile[res]).read())\n",
    "        if config['location']['country'] == countryList:\n",
    "            state = config[\"location\"][\"state\"]\n",
    "            city =  config[\"location\"][\"city\"]\n",
    "            Name_of_file = restFile[res][15:-5]\n",
    "            clean_file = re.sub('[^a-zA-Z \\n\\.]', ' ', Name_of_file)\n",
    "            openKey = config['hours'][0]['open']\n",
    "            for x in range(len(openKey)):\n",
    "                day = openKey[x]['day']\n",
    "                startTime = openKey[x]['start']\n",
    "                \n",
    "                \n",
    "                # Splitting Start Time into hour and minute.\n",
    "                sHour = startTime[0:-2]\n",
    "                sMin = startTime[-2:]\n",
    "                \n",
    "                # Splitting End Time into hour and minute.\n",
    "                endTime = openKey[x]['end']\n",
    "                eHour = endTime[0:-2]\n",
    "                eMin = endTime[-2:]\n",
    "                dataSet = (clean_file.strip(), city, countryList, day, sHour, sMin, eHour, eMin)\n",
    "                csvF.append(dataSet)\n",
    "                \n",
    "with open(bonusFile, 'w', newline='') as fp:\n",
    "    a = csv.writer(fp, delimiter=',')\n",
    "    a.writerow([\"Name\", \"City\", \"Country Code\", \"Days\", \"Start Time Hour\", \"Start Time Minute\", \"End Time Hour\", \"End Time Minute\"])\n",
    "    a.writerows(csvF)\n",
    "    fp.close()"
   ]
  }
 ],
 "metadata": {
  "kernelspec": {
   "display_name": "Python 3",
   "language": "python",
   "name": "python3"
  },
  "language_info": {
   "codemirror_mode": {
    "name": "ipython",
    "version": 3
   },
   "file_extension": ".py",
   "mimetype": "text/x-python",
   "name": "python",
   "nbconvert_exporter": "python",
   "pygments_lexer": "ipython3",
   "version": "3.6.0"
  }
 },
 "nbformat": 4,
 "nbformat_minor": 2
}
