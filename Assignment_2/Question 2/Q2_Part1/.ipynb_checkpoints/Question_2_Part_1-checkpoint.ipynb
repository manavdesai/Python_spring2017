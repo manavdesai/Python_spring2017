{
 "cells": [
  {
   "cell_type": "markdown",
   "metadata": {},
   "source": [
    "# Question 2_Part 1"
   ]
  },
  {
   "cell_type": "markdown",
   "metadata": {},
   "source": [
    "-Read all the JSON Files in the folder called Data.\n",
    "-There are 3 categories of JSON file names ['attractions', 'Restaurants', 'Hotel']\n",
    "-Create a folder structure to read all JSON files and store them in seperate folder.\n",
    "-Example - Data Processed / Country / State / City / Zip Code / Attraction / JSON Files\n",
    "same for restaurant and hotel."
   ]
  },
  {
   "cell_type": "code",
   "execution_count": 12,
   "metadata": {
    "collapsed": true
   },
   "outputs": [],
   "source": [
    "import glob \n",
    "import json\n",
    "import os \n",
    "import shutil\n",
    "import re "
   ]
  },
  {
   "cell_type": "code",
   "execution_count": 13,
   "metadata": {
    "collapsed": false
   },
   "outputs": [
    {
     "data": {
      "text/plain": [
       "{'AU', 'CA', 'FR', 'GB', 'NZ', 'US'}"
      ]
     },
     "execution_count": 13,
     "metadata": {},
     "output_type": "execute_result"
    }
   ],
   "source": [
    "relativePath = os.getcwd()\n",
    "fileList = glob.glob('E:/Python/Data/*json')\n",
    "countryList= []\n",
    "\n",
    "\n",
    "for file in range(len(fileList)):\n",
    "    \n",
    "    config = json.loads(open(fileList[file]).read())\n",
    "    countryList.append(config[\"location\"][\"country\"])\n",
    "    setOfCountry = set(countryList)\n",
    "\n",
    "setOfCountry"
   ]
  },
  {
   "cell_type": "code",
   "execution_count": 14,
   "metadata": {
    "collapsed": true
   },
   "outputs": [],
   "source": [
    "folder = '/Data Processed'\n",
    "\n",
    "\n",
    "if os.path.isdir(relativePath+folder) == 0:\n",
    "     os.mkdir(relativePath+folder)\n",
    "        \n",
    "for countryList in setOfCountry:\n",
    "    for file in range(len(fileList)):\n",
    "        config = json.loads(open(fileList[file]).read())\n",
    "        \n",
    "        if config['location']['country'] == countryList:\n",
    "            state = config[\"location\"][\"state\"]\n",
    "            city =  config[\"location\"][\"city\"]\n",
    "            zipCode = config[\"location\"][\"zip_code\"]\n",
    "            term =  config['term']\n",
    "            \n",
    "            \n",
    "            Name_of_file = fileList[file][15:]\n",
    "            clean_file = re.sub('[^a-zA-Z \\n\\.]', ' ', Name_of_file)\n",
    "            new_file = clean_file.replace(city.lower(), '')\n",
    "            \n",
    "            \n",
    "            if os.path.isdir(relativePath+folder) == 1:\n",
    "                os.makedirs(relativePath+folder+\"/\"+countryList+\"/\"+state+\"/\"+city+\"/\"+zipCode+\"/\"+term, exist_ok=True)\n",
    "                destination = relativePath+folder+\"/\"+countryList+\"/\"+state+\"/\"+city+\"/\"+zipCode+\"/\"+term+\"/\"+new_file\n",
    "                shutil.copy(fileList[file], destination)"
   ]
  }
 ],
 "metadata": {
  "kernelspec": {
   "display_name": "Python 3",
   "language": "python",
   "name": "python3"
  },
  "language_info": {
   "codemirror_mode": {
    "name": "ipython",
    "version": 3
   },
   "file_extension": ".py",
   "mimetype": "text/x-python",
   "name": "python",
   "nbconvert_exporter": "python",
   "pygments_lexer": "ipython3",
   "version": "3.6.0"
  }
 },
 "nbformat": 4,
 "nbformat_minor": 2
}
