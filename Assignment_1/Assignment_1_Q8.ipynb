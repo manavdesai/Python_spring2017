{
 "cells": [
  {
   "cell_type": "markdown",
   "metadata": {},
   "source": [
    "Question 8\n",
    "- Use nps_chat and wordlist corpus.\n",
    "- If you find a word in nps_chat but not in wordlist, it is considered an unusual word. \n",
    "(e.g. Heyyyy, gr8, 4ever can be considered unusual words for this analysis)\n",
    "- Find out how many unusual words people speak in chat (notice: usernames should not be counted)\n",
    "- Bonus: What if I want to  count :  , : ( all these emoticons in. (optional)"
   ]
  },
  {
   "cell_type": "code",
   "execution_count": 29,
   "metadata": {
    "collapsed": true
   },
   "outputs": [],
   "source": [
    "import nltk\n",
    "nltk.corpus.nps_chat.fileids()\n",
    "import string"
   ]
  },
  {
   "cell_type": "code",
   "execution_count": 36,
   "metadata": {
    "collapsed": false
   },
   "outputs": [
    {
     "name": "stdout",
     "output_type": "stream",
     "text": [
      "Number of words in wordlist:  236736\n"
     ]
    }
   ],
   "source": [
    "wordlist=nltk.corpus.words.words() \n",
    "print(\"Number of words in wordlist: \",len(wordlist))"
   ]
  },
  {
   "cell_type": "code",
   "execution_count": 46,
   "metadata": {
    "collapsed": false
   },
   "outputs": [
    {
     "name": "stdout",
     "output_type": "stream",
     "text": [
      "Number of words in nps_chats:  39360\n"
     ]
    }
   ],
   "source": [
    "\n",
    "chats_nps = []\n",
    "\n",
    "for file in nltk.corpus.nps_chat.fileids():\n",
    "    text = nltk.corpus.nps_chat.words(file)\n",
    "    M=text\n",
    "    chats_nps.append(M)\n",
    "V=sum(t_nps,[]) \n",
    "\n",
    "D=[''.join(c for c in s if c not in string.punctuation) for s in V]\n",
    "D = [s for s in D if s]\n",
    "print(\"Number of words in nps_chats: \",len(D))"
   ]
  },
  {
   "cell_type": "code",
   "execution_count": 41,
   "metadata": {
    "collapsed": false
   },
   "outputs": [
    {
     "name": "stdout",
     "output_type": "stream",
     "text": [
      "Number of word in nps_chat but not in wordlist:  2727\n"
     ]
    }
   ],
   "source": [
    "List = []\n",
    "counter = 0\n",
    "for word in C:\n",
    "    if word not in word_list:\n",
    "        List.append(word)\n",
    "        counter =counter + 1\n",
    "print(\"Number of word in nps_chat but not in wordlist: \",counter)"
   ]
  },
  {
   "cell_type": "code",
   "execution_count": 43,
   "metadata": {
    "collapsed": false
   },
   "outputs": [
    {
     "name": "stdout",
     "output_type": "stream",
     "text": [
      "Number of users:  404\n"
     ]
    }
   ],
   "source": [
    "Manav = []\n",
    "manav_count = 0\n",
    "for word in List:\n",
    "    if word.startswith(\"u\"):\n",
    "        for l in word:\n",
    "             if l.isdigit():\n",
    "                Manav.append(word)\n",
    "                manav_count = manav_count + 1\n",
    "print(\"Number of users: \",manav_count)"
   ]
  },
  {
   "cell_type": "code",
   "execution_count": 45,
   "metadata": {
    "collapsed": false
   },
   "outputs": [
    {
     "name": "stdout",
     "output_type": "stream",
     "text": [
      "TOTAL NUMBER OF UNUSUAL WORDS ARE : 2323\n"
     ]
    }
   ],
   "source": [
    "count_unusual = counter- manav_count\n",
    "print(\"TOTAL NUMBER OF UNUSUAL WORDS ARE :\",count_unusual)"
   ]
  },
  {
   "cell_type": "code",
   "execution_count": null,
   "metadata": {
    "collapsed": true
   },
   "outputs": [],
   "source": []
  }
 ],
 "metadata": {
  "kernelspec": {
   "display_name": "Python 3",
   "language": "python",
   "name": "python3"
  },
  "language_info": {
   "codemirror_mode": {
    "name": "ipython",
    "version": 3
   },
   "file_extension": ".py",
   "mimetype": "text/x-python",
   "name": "python",
   "nbconvert_exporter": "python",
   "pygments_lexer": "ipython3",
   "version": "3.6.0"
  }
 },
 "nbformat": 4,
 "nbformat_minor": 2
}
