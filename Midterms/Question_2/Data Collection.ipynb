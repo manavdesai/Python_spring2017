{
 "cells": [
  {
   "cell_type": "markdown",
   "metadata": {},
   "source": [
    "# Data collection\n"
   ]
  },
  {
   "cell_type": "code",
   "execution_count": 1,
   "metadata": {
    "collapsed": false
   },
   "outputs": [
    {
     "name": "stdout",
     "output_type": "stream",
     "text": [
      "1 Json dumped in folder\n",
      "2 Json dumped in folder\n",
      "3 Json dumped in folder\n",
      "4 Json dumped in folder\n",
      "5 Json dumped in folder\n"
     ]
    }
   ],
   "source": [
    "# Program to download the NYT data using API key for \"ARCHIVE\" \n",
    "# This collected is stored in the harddisk\n",
    "import os\n",
    "import requests\n",
    "import json\n",
    "url = []\n",
    "url.append(\"https://api.nytimes.com/svc/archive/v1/1988/8.json\")\n",
    "url.append(\"https://api.nytimes.com/svc/archive/v1/1988/9.json\")\n",
    "url.append(\"https://api.nytimes.com/svc/archive/v1/1988/10.json\")\n",
    "url.append(\"https://api.nytimes.com/svc/archive/v1/1988/11.json\")\n",
    "url.append(\"https://api.nytimes.com/svc/archive/v1/1988/12.json\")\n",
    "outputlist=[]\n",
    "for x in range(len(url)):\n",
    "    outputlist.append(requests.get(url[x]+\"?api-key=e1cb9352915f497a91c3c4f504b47177\").json())  \n",
    "    outputfol='data/NYTAPI'\n",
    "    path = (outputfol+'\\\\'+str(\"archive\"+outputlist[x]['response']['docs'][0]['pub_date'][:7])+'.json')\n",
    "    if not os.path.exists(outputfol):\n",
    "            os.makedirs(outputfol)\n",
    "    if not os.path.exists(path):\n",
    "            with open(path, 'w') as outfile:\n",
    "                json.dump(outputlist, outfile)\n",
    "                print(repr(x+1)+\" Json dumped in folder\")\n",
    "    else:\n",
    "        print(repr(x+1)+\" Json already present\")"
   ]
  },
  {
   "cell_type": "code",
   "execution_count": 2,
   "metadata": {
    "collapsed": false
   },
   "outputs": [
    {
     "name": "stdout",
     "output_type": "stream",
     "text": [
      "Json dumped in folder\n"
     ]
    }
   ],
   "source": [
    "# Program to download the NYT data using API key for \"BOOKS - Names\" \n",
    "# This collected is stored in the harddisk\n",
    "import os\n",
    "import requests\n",
    "import json\n",
    "outputlist1=[]\n",
    "outputlist1 = requests.get(\"https://api.nytimes.com/svc/books/v3/lists/names.json?api-key=e1cb9352915f497a91c3c4f504b47177\").json()  \n",
    "outputfol='data/NYTAPI'\n",
    "path = (outputfol+'\\\\'+'BookListNames'+'.json')\n",
    "if not os.path.exists(outputfol):\n",
    "        os.makedirs(outputfol)\n",
    "if not os.path.exists(path):\n",
    "        with open(path, 'w') as outfile:\n",
    "            json.dump(outputlist1, outfile)\n",
    "            print(\"Json dumped in folder\")\n",
    "else:\n",
    "    print(\"Json already present\")\n"
   ]
  },
  {
   "cell_type": "code",
   "execution_count": 3,
   "metadata": {
    "collapsed": false
   },
   "outputs": [
    {
     "name": "stdout",
     "output_type": "stream",
     "text": [
      "Json dumped in folder\n"
     ]
    }
   ],
   "source": [
    "# Program to download the NYT data using API key for \"BOOKS - Overview\" \n",
    "# This collected is stored in the harddisk\n",
    "import os\n",
    "import requests\n",
    "import json\n",
    "outputlist2=[]\n",
    "outputlist2 = requests.get(\"https://api.nytimes.com/svc/books/v3/lists/overview.json?api-key=e1cb9352915f497a91c3c4f504b47177\").json()  \n",
    "outputfol='data/NYTAPI'\n",
    "path = (outputfol+'\\\\'+'BookListOverview'+'.json')\n",
    "if not os.path.exists(outputfol):\n",
    "        os.makedirs(outputfol)\n",
    "if not os.path.exists(path):\n",
    "        with open(path, 'w') as outfile:\n",
    "            json.dump(outputlist2, outfile)\n",
    "            print(\"Json dumped in folder\")\n",
    "else:\n",
    "    print(\"Json already present\")"
   ]
  },
  {
   "cell_type": "code",
   "execution_count": 4,
   "metadata": {
    "collapsed": false
   },
   "outputs": [
    {
     "name": "stdout",
     "output_type": "stream",
     "text": [
      "Json dumped in folder\n"
     ]
    }
   ],
   "source": [
    "# Program to download the NYT data using API key for \"Article\" \n",
    "# This collected is stored in the harddisk\n",
    "import os\n",
    "import requests\n",
    "import json\n",
    "outputlist2=[]\n",
    "outputlist2 = requests.get(\"https://api.nytimes.com/svc/search/v2/articlesearch.json?api-key=e1cb9352915f497a91c3c4f504b47177\").json()  \n",
    "outputfol='data/NYTAPI'\n",
    "path = (outputfol+'\\\\'+'articlesearch'+'.json')\n",
    "if not os.path.exists(outputfol):\n",
    "        os.makedirs(outputfol)\n",
    "if not os.path.exists(path):\n",
    "        with open(path, 'w') as outfile:\n",
    "            json.dump(outputlist2, outfile)\n",
    "            print(\"Json dumped in folder\")\n",
    "else:\n",
    "    print(\"Json already present\")"
   ]
  },
  {
   "cell_type": "code",
   "execution_count": null,
   "metadata": {
    "collapsed": true
   },
   "outputs": [],
   "source": []
  }
 ],
 "metadata": {
  "kernelspec": {
   "display_name": "Python 3",
   "language": "python",
   "name": "python3"
  },
  "language_info": {
   "codemirror_mode": {
    "name": "ipython",
    "version": 3
   },
   "file_extension": ".py",
   "mimetype": "text/x-python",
   "name": "python",
   "nbconvert_exporter": "python",
   "pygments_lexer": "ipython3",
   "version": "3.6.0"
  }
 },
 "nbformat": 4,
 "nbformat_minor": 2
}
