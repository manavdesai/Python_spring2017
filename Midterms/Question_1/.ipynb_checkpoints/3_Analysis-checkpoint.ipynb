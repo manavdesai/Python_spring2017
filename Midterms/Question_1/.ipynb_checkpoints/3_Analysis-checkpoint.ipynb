{
 "cells": [
  {
   "cell_type": "markdown",
   "metadata": {},
   "source": [
    "# Question 1_Analysis 3\n",
    "\n",
    "#### Find out the peak time for most of the mails sent by chairman Ken Lay"
   ]
  },
  {
   "cell_type": "code",
   "execution_count": 8,
   "metadata": {
    "collapsed": false
   },
   "outputs": [],
   "source": [
    "import os\n",
    "import glob\n",
    "import re\n",
    "import email\n",
    "import operator\n",
    "from nltk.corpus import stopwords\n",
    "from email.parser import Parser\n",
    "\n",
    "\n",
    "path = glob.glob(r'C:\\Users\\Manav Desai\\Python_data\\enron_mail_20150507\\maildir\\lay-k*')"
   ]
  },
  {
   "cell_type": "code",
   "execution_count": 9,
   "metadata": {
    "collapsed": false
   },
   "outputs": [],
   "source": [
    "for folder_list in path:               \n",
    "    all_folders = glob.glob(os.path.join(folder_list, '*sent*'))\n",
    "    for all_sent_folders in all_folders:  \n",
    "        all_mails = glob.glob(os.path.join(all_sent_folders, '*'))\n",
    "        email_timestamp = []\n",
    "        t = []\n",
    "        time = []\n",
    "        time_dict = {}\n",
    "        \n",
    "        for x in all_mails:\n",
    "            if x[-1].isdigit():\n",
    "                with open(x) as data_file:\n",
    "                    raw_file = data_file.read()\n",
    "                    email = Parser().parsestr(raw_file)\n",
    "                    email_timestamp.append(email.get('date'))\n",
    "                    for email_time in email_timestamp:\n",
    "                        if email_time:\n",
    "                            email_time=email_time.split(\" \")\n",
    "                            for time_1 in email_time[4:5]:\n",
    "                                time_1=time_1.split(\":\")\n",
    "                                t.append(time_1)\n",
    "                                for t1 in time_1[0:1]:\n",
    "                                    #print(time_1)\n",
    "                                    time.append(t1)\n",
    "\n",
    "                                    for digit in time:\n",
    "                                        if digit in time_dict:\n",
    "                                            time_dict[digit] +=1\n",
    "                                        else:\n",
    "                                            time_dict[digit]=1\n"
   ]
  },
  {
   "cell_type": "code",
   "execution_count": 10,
   "metadata": {
    "collapsed": false
   },
   "outputs": [
    {
     "name": "stdout",
     "output_type": "stream",
     "text": [
      "The time and frequency of the mails sent by chairman Ken Lay are as follows:\n",
      " [('01', 71682744), ('09', 69644978), ('06', 52561605), ('03', 50704774), ('10', 45281132), ('05', 45118175), ('08', 42355501), ('00', 34065561), ('07', 33858930), ('23', 32602256), ('04', 30330902), ('02', 27934143), ('12', 21240017), ('11', 19639287), ('20', 7039076), ('13', 402288), ('15', 53711), ('22', 14256)]\n"
     ]
    }
   ],
   "source": [
    "sorted_x = sorted(time_dict.items(), key=operator.itemgetter(1), reverse = True)\n",
    "\n",
    "print('The time and frequency of the mails sent by chairman Ken Lay are as follows:\\n', sorted_x)"
   ]
  },
  {
   "cell_type": "code",
   "execution_count": null,
   "metadata": {
    "collapsed": true
   },
   "outputs": [],
   "source": []
  }
 ],
 "metadata": {
  "kernelspec": {
   "display_name": "Python 3",
   "language": "python",
   "name": "python3"
  },
  "language_info": {
   "codemirror_mode": {
    "name": "ipython",
    "version": 3
   },
   "file_extension": ".py",
   "mimetype": "text/x-python",
   "name": "python",
   "nbconvert_exporter": "python",
   "pygments_lexer": "ipython3",
   "version": "3.6.0"
  }
 },
 "nbformat": 4,
 "nbformat_minor": 2
}
