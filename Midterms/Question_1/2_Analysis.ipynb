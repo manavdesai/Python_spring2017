{
 "cells": [
  {
   "cell_type": "markdown",
   "metadata": {},
   "source": [
    "# Question_1 - Analysis_2  \n",
    "Finding the e-mails relevant to Enron's business and scandal during Jeffrey Skilling's tenure as CEO.\n",
    "Matching e-mail content with a list of words specific to Enron's business"
   ]
  },
  {
   "cell_type": "code",
   "execution_count": 1,
   "metadata": {
    "collapsed": true
   },
   "outputs": [],
   "source": [
    "from email.parser import Parser\n",
    "import os\n",
    "import datetime\n",
    "import csv\n",
    "import email"
   ]
  },
  {
   "cell_type": "code",
   "execution_count": 2,
   "metadata": {
    "collapsed": true
   },
   "outputs": [],
   "source": [
    "path='analysis2'\n",
    "file_name='output2.csv'\n",
    "match_list=['stocks','shares','gas','fax','deal'] \n",
    "\n",
    "if not os.path.exists(path):\n",
    "    os.makedirs(path)\n",
    "with open(os.path.join(path,file_name),'w') as csvfile:\n",
    "        output= csv.writer(csvfile)\n",
    "        output.writerow(['Directory','file_name','Sender','Date','Word'])\n",
    "        for directory,subdir,files in os.walk(os.path.join('../Data/Enron')):\n",
    "            \n",
    "            if('skilling-j' in directory):\n",
    "                #print(directory)\n",
    "                for file in files:\n",
    "                    #print(file)\n",
    "                    if not file.startswith('.'):\n",
    "                        with open(os.path.join(directory,file),'r',encoding='utf-8',errors='ignore') as temp:\n",
    "                            data = temp.read()\n",
    "                            new_email = Parser().parsestr(data)\n",
    "                            email = new_email.get_payload()\n",
    "                           \n",
    "                            date=new_email['Date']\n",
    "                \n",
    "                            new_date = datetime.datetime.strptime(date[:-12],'%a, %d %b %Y %H:%M:%S')\n",
    "                            start= datetime.datetime.strptime('12 feb 2001 00:00:00','%d %b %Y %H:%M:%S')\n",
    "                            end= datetime.datetime.strptime('14 aug 2001 23:59:59','%d %b %Y %H:%M:%S')\n",
    "                            while new_date<end and new_date>start:\n",
    "                                temp_email = new_email.as_string()\n",
    "                                str_email = temp_email.lower()\n",
    "                                for word in match_list:\n",
    "                                    if word in str_email:\n",
    "                                        output.writerow([directory,file,new_email['From'],new_date,word])\n",
    "                                start = start+datetime.timedelta(days=1)"
   ]
  },
  {
   "cell_type": "code",
   "execution_count": 4,
   "metadata": {
    "collapsed": false
   },
   "outputs": [
    {
     "name": "stdout",
     "output_type": "stream",
     "text": [
      "Mon, 11 Dec 2000 09:20:00\n",
      "Wed, 6 Dec 2000 07:49:00\n",
      "Wed, 6 Dec 2000 07:49:00\n",
      "Wed, 16 Dec 2000 07:49:00\n"
     ]
    }
   ],
   "source": [
    "with open('C:/Users/Manav Desai/Python_data/enron_mail_20150507/maildir/beck-s/_sent_mail/2.','r') as temp:\n",
    "    email = temp.read()\n",
    "    email1 = Parser().parsestr(email)\n",
    "    \n",
    "\n",
    "e = email1.as_string()\n",
    "\n",
    "s=e.lower()\n",
    "\n",
    "d=email1['Date']\n",
    "print(d[:25])\n",
    "c = 'Wed, 6 Dec 2000 07:49:00 -0800 (PST)'\n",
    "c1 = 'Wed, 16 Dec 2000 07:49:00 -0800 (PST)'\n",
    "print(c[:24])\n",
    "print(c[:-12])\n",
    "print(c1[:-12])\n"
   ]
  },
  {
   "cell_type": "code",
   "execution_count": null,
   "metadata": {
    "collapsed": true
   },
   "outputs": [],
   "source": []
  }
 ],
 "metadata": {
  "kernelspec": {
   "display_name": "Python 3",
   "language": "python",
   "name": "python3"
  },
  "language_info": {
   "codemirror_mode": {
    "name": "ipython",
    "version": 3
   },
   "file_extension": ".py",
   "mimetype": "text/x-python",
   "name": "python",
   "nbconvert_exporter": "python",
   "pygments_lexer": "ipython3",
   "version": "3.6.0"
  }
 },
 "nbformat": 4,
 "nbformat_minor": 2
}
